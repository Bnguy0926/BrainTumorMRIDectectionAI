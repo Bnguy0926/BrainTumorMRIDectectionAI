{
  "nbformat": 4,
  "nbformat_minor": 0,
  "metadata": {
    "colab": {
      "provenance": [],
      "include_colab_link": true
    },
    "kernelspec": {
      "name": "python3",
      "display_name": "Python 3"
    },
    "language_info": {
      "name": "python"
    }
  },
  "cells": [
    {
      "cell_type": "markdown",
      "metadata": {
        "id": "view-in-github",
        "colab_type": "text"
      },
      "source": [
        "<a href=\"https://colab.research.google.com/github/Bnguy0926/BrainTumorMRIDectectionAI/blob/main/ECS170.ipynb\" target=\"_parent\"><img src=\"https://colab.research.google.com/assets/colab-badge.svg\" alt=\"Open In Colab\"/></a>"
      ]
    },
    {
      "cell_type": "code",
      "source": [
        "from google.colab import drive\n",
        "drive.mount('/content/drive')"
      ],
      "metadata": {
        "id": "4dzhvFujtqEE",
        "colab": {
          "base_uri": "https://localhost:8080/"
        },
        "outputId": "b5948e28-c765-403b-d181-dd54ddeb9e50"
      },
      "execution_count": 2,
      "outputs": [
        {
          "output_type": "stream",
          "name": "stdout",
          "text": [
            "Mounted at /content/drive\n"
          ]
        }
      ]
    },
    {
      "cell_type": "code",
      "execution_count": 23,
      "metadata": {
        "id": "1AjLn4no3Uxc"
      },
      "outputs": [],
      "source": [
        "import numpy as np\n",
        "import pandas as pd\n",
        "import seaborn as sb\n",
        "import tensorflow as tf"
      ]
    },
    {
      "cell_type": "code",
      "source": [
        "df = pd.read_csv('/content/drive/Shareddrives/ECS 170: Brain_Tumor_Detection/DATASETS/bt_dataset_t3.csv')"
      ],
      "metadata": {
        "id": "U7e4cWUBt2Lx"
      },
      "execution_count": 28,
      "outputs": []
    },
    {
      "cell_type": "code",
      "source": [
        "df.columns"
      ],
      "metadata": {
        "colab": {
          "base_uri": "https://localhost:8080/"
        },
        "id": "vsX0X9YWuz9F",
        "outputId": "db7214ea-7189-4f57-92b4-80f9958f5c2b"
      },
      "execution_count": 29,
      "outputs": [
        {
          "output_type": "execute_result",
          "data": {
            "text/plain": [
              "Index(['Image', 'Mean', 'Variance', 'Standard Deviation', 'Entropy',\n",
              "       'Skewness', 'Kurtosis', 'Contrast', 'Energy', 'ASM', 'Homogeneity',\n",
              "       'Dissimilarity', 'Correlation', 'Coarseness', 'PSNR', 'SSIM', 'MSE',\n",
              "       'DC', 'Target'],\n",
              "      dtype='object')"
            ]
          },
          "metadata": {},
          "execution_count": 29
        }
      ]
    },
    {
      "cell_type": "code",
      "source": [
        "data_scan = df.drop(['Mean', 'Variance', 'Standard Deviation', 'Entropy',\n",
        "       'Skewness', 'Kurtosis', 'Contrast', 'Energy', 'ASM', 'Homogeneity',\n",
        "       'Dissimilarity', 'Correlation', 'Coarseness', 'PSNR', 'SSIM', 'MSE',\n",
        "       'DC'],axis = 1)"
      ],
      "metadata": {
        "id": "Dzix5nxKvlpo"
      },
      "execution_count": 31,
      "outputs": []
    },
    {
      "cell_type": "code",
      "source": [
        "print(data_scan)"
      ],
      "metadata": {
        "colab": {
          "base_uri": "https://localhost:8080/"
        },
        "id": "f3st4NLowXwv",
        "outputId": "a5717aa2-7f78-44a9-e935-18aee0e8fcfd"
      },
      "execution_count": 33,
      "outputs": [
        {
          "output_type": "stream",
          "name": "stdout",
          "text": [
            "          Image  Target\n",
            "0        Image1       1\n",
            "1        Image2       1\n",
            "2        Image3       1\n",
            "3        Image4       0\n",
            "4        Image5       0\n",
            "...         ...     ...\n",
            "1639  Image1640       0\n",
            "1640  Image1641       0\n",
            "1641  Image1642       0\n",
            "1642  Image1643       0\n",
            "1643  Image1644       0\n",
            "\n",
            "[1644 rows x 2 columns]\n"
          ]
        }
      ]
    }
  ]
}