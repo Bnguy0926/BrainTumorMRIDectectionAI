{
  "nbformat": 4,
  "nbformat_minor": 0,
  "metadata": {
    "colab": {
      "provenance": [],
      "include_colab_link": true
    },
    "kernelspec": {
      "name": "python3",
      "display_name": "Python 3"
    },
    "language_info": {
      "name": "python"
    }
  },
  "cells": [
    {
      "cell_type": "markdown",
      "metadata": {
        "id": "view-in-github",
        "colab_type": "text"
      },
      "source": [
        "<a href=\"https://colab.research.google.com/github/Bnguy0926/BrainTumorMRIDectectionAI/blob/main/ECS170.ipynb\" target=\"_parent\"><img src=\"https://colab.research.google.com/assets/colab-badge.svg\" alt=\"Open In Colab\"/></a>"
      ]
    },
    {
      "cell_type": "code",
      "source": [
        "from google.colab import drive\n",
        "drive.mount('/content/drive')"
      ],
      "metadata": {
        "id": "4dzhvFujtqEE",
        "colab": {
          "base_uri": "https://localhost:8080/"
        },
        "outputId": "7e4f351c-2397-4420-9331-b81fe35ce3b0"
      },
      "execution_count": null,
      "outputs": [
        {
          "output_type": "stream",
          "name": "stdout",
          "text": [
            "Drive already mounted at /content/drive; to attempt to forcibly remount, call drive.mount(\"/content/drive\", force_remount=True).\n"
          ]
        }
      ]
    },
    {
      "cell_type": "markdown",
      "source": [
        "# Loading Libraries and Data Preprocessing"
      ],
      "metadata": {
        "id": "RwRiRZ1W8SL4"
      }
    },
    {
      "cell_type": "code",
      "execution_count": null,
      "metadata": {
        "id": "1AjLn4no3Uxc"
      },
      "outputs": [],
      "source": [
        "import numpy as np\n",
        "import pandas as pd\n",
        "import seaborn as sb\n",
        "import tensorflow as tf\n",
        "import matplotlib.image as mpimg\n",
        "import matplotlib.pyplot as plt\n",
        "import os\n",
        "from PIL import Image\n",
        "import cv2"
      ]
    },
    {
      "cell_type": "code",
      "source": [
        "os.chdir(\"/content/drive/Shareddrives/ECS 170: Brain_Tumor_Detection\")"
      ],
      "metadata": {
        "id": "2jT2sb5fyQhH"
      },
      "execution_count": null,
      "outputs": []
    },
    {
      "cell_type": "code",
      "source": [
        "df = pd.read_csv('DATASETS/bt_dataset_t3.csv')"
      ],
      "metadata": {
        "id": "U7e4cWUBt2Lx"
      },
      "execution_count": null,
      "outputs": []
    },
    {
      "cell_type": "code",
      "source": [
        "df.columns"
      ],
      "metadata": {
        "colab": {
          "base_uri": "https://localhost:8080/"
        },
        "id": "vsX0X9YWuz9F",
        "outputId": "b853d5f3-ba8e-42fa-9b25-63a5dc606829"
      },
      "execution_count": null,
      "outputs": [
        {
          "output_type": "execute_result",
          "data": {
            "text/plain": [
              "Index(['Image', 'Mean', 'Variance', 'Standard Deviation', 'Entropy',\n",
              "       'Skewness', 'Kurtosis', 'Contrast', 'Energy', 'ASM', 'Homogeneity',\n",
              "       'Dissimilarity', 'Correlation', 'Coarseness', 'PSNR', 'SSIM', 'MSE',\n",
              "       'DC', 'Target'],\n",
              "      dtype='object')"
            ]
          },
          "metadata": {},
          "execution_count": 25
        }
      ]
    },
    {
      "cell_type": "code",
      "source": [
        "data_scan = df.drop(['Mean', 'Variance', 'Standard Deviation', 'Entropy',\n",
        "       'Skewness', 'Kurtosis', 'Contrast', 'Energy', 'ASM', 'Homogeneity',\n",
        "       'Dissimilarity', 'Correlation', 'Coarseness', 'PSNR', 'SSIM', 'MSE',\n",
        "       'DC'],axis = 1)"
      ],
      "metadata": {
        "id": "Dzix5nxKvlpo"
      },
      "execution_count": null,
      "outputs": []
    },
    {
      "cell_type": "code",
      "source": [
        "print(data_scan)"
      ],
      "metadata": {
        "colab": {
          "base_uri": "https://localhost:8080/"
        },
        "id": "f3st4NLowXwv",
        "outputId": "3e0cc0e2-c3a0-4cd6-9052-f9f2b7a8c64b"
      },
      "execution_count": null,
      "outputs": [
        {
          "output_type": "stream",
          "name": "stdout",
          "text": [
            "          Image  Target\n",
            "0        Image1       1\n",
            "1        Image2       1\n",
            "2        Image3       1\n",
            "3        Image4       0\n",
            "4        Image5       0\n",
            "...         ...     ...\n",
            "1639  Image1640       0\n",
            "1640  Image1641       0\n",
            "1641  Image1642       0\n",
            "1642  Image1643       0\n",
            "1643  Image1644       0\n",
            "\n",
            "[1644 rows x 2 columns]\n"
          ]
        }
      ]
    },
    {
      "cell_type": "code",
      "source": [
        "images_data = tf.keras.preprocessing.image_dataset_from_directory('/content/drive/Shareddrives/ECS 170: Brain_Tumor_Detection/Brain_Tumor',labels=None)"
      ],
      "metadata": {
        "id": "wfo2PTFStSIw",
        "colab": {
          "base_uri": "https://localhost:8080/"
        },
        "outputId": "a094a2dd-ea5a-4350-95bb-d48f11cbd92d"
      },
      "execution_count": null,
      "outputs": [
        {
          "output_type": "stream",
          "name": "stdout",
          "text": [
            "Found 3782 files belonging to 1 classes.\n"
          ]
        }
      ]
    },
    {
      "cell_type": "markdown",
      "source": [
        "# Data Processing"
      ],
      "metadata": {
        "id": "xWXQRs0Jr1nC"
      }
    },
    {
      "cell_type": "code",
      "source": [
        "drive_folder_path = '//content/drive/Shareddrives/ECS 170: Brain_Tumor_Detection/Brain_Tumor'\n",
        "\n",
        "image_arrays = []\n",
        "\n",
        "for filename in os.listdir(drive_folder_path):\n",
        "    if filename.endswith(\".jpg\"):  # Adjust the file extension as needed\n",
        "        image_path = os.path.join(drive_folder_path, filename)\n",
        "        image = Image.open(image_path)\n",
        "        temp = image.resize((200,200))\n",
        "\n",
        "        np_array = np.array(temp)\n",
        "        grayscale_image = cv2.cvtColor(np_array, cv2.COLOR_RGB2GRAY)\n",
        "\n",
        "\n",
        "        image_arrays.append(grayscale_image/255)"
      ],
      "metadata": {
        "id": "gEFqAkQur57o"
      },
      "execution_count": null,
      "outputs": []
    },
    {
      "cell_type": "code",
      "source": [
        "import numpy as np\n",
        "np.set_printoptions(threshold=np.inf)\n",
        "print(image_arrays[0])"
      ],
      "metadata": {
        "id": "Rskf3Orm9F0u"
      },
      "execution_count": null,
      "outputs": []
    },
    {
      "cell_type": "code",
      "source": [
        "'''for f in image_arrays[f]:\n",
        "    for num in image'''\n",
        "\n",
        "print(image_arrays[10][100])"
      ],
      "metadata": {
        "id": "iObYPeRMzlYD",
        "colab": {
          "base_uri": "https://localhost:8080/"
        },
        "outputId": "2d8b4045-82da-4efb-91d3-cf67329805b2"
      },
      "execution_count": null,
      "outputs": [
        {
          "output_type": "stream",
          "name": "stdout",
          "text": [
            "[0.         0.         0.         0.         0.         0.\n",
            " 0.         0.         0.         0.         0.         0.\n",
            " 0.         0.         0.         0.         0.         0.\n",
            " 0.         0.         0.         0.         0.         0.\n",
            " 0.         0.         0.         0.         0.         0.\n",
            " 0.         0.         0.         0.         0.         0.\n",
            " 0.         0.         0.         0.         0.         0.\n",
            " 0.         0.         0.         0.         0.01176471 0.01568627\n",
            " 0.00392157 0.17254902 0.24313725 0.29019608 0.69019608 0.90980392\n",
            " 0.89019608 0.89019608 0.88235294 0.8745098  0.86666667 0.85490196\n",
            " 0.85098039 0.82352941 0.77254902 0.70196078 0.68235294 0.74901961\n",
            " 0.82745098 0.85490196 0.83921569 0.84313725 0.88235294 0.9254902\n",
            " 0.91764706 0.87843137 0.87058824 0.8745098  0.8745098  0.88627451\n",
            " 0.9254902  0.96078431 0.9372549  0.91764706 0.91372549 0.90196078\n",
            " 0.88235294 0.89019608 0.91372549 0.94509804 0.79607843 0.51372549\n",
            " 0.26666667 0.25490196 0.29803922 0.37647059 0.14901961 0.06666667\n",
            " 0.01176471 0.02745098 0.         0.         0.         0.\n",
            " 0.00392157 0.         0.         0.18431373 0.49019608 0.45490196\n",
            " 0.40392157 0.37647059 0.39607843 0.49019608 0.72941176 0.9372549\n",
            " 0.97254902 0.95686275 0.95294118 0.96078431 0.95294118 0.92156863\n",
            " 0.92156863 0.89411765 0.90980392 0.92156863 0.85098039 0.69019608\n",
            " 0.7372549  0.85490196 0.84705882 0.81176471 0.76078431 0.70196078\n",
            " 0.62745098 0.63529412 0.73333333 0.83921569 0.85098039 0.82352941\n",
            " 0.82352941 0.83529412 0.81960784 0.82745098 0.84313725 0.87058824\n",
            " 0.8745098  0.84313725 0.78431373 0.66666667 0.32156863 0.10196078\n",
            " 0.         0.01176471 0.01568627 0.         0.         0.\n",
            " 0.         0.         0.         0.         0.         0.\n",
            " 0.         0.         0.         0.         0.         0.\n",
            " 0.         0.         0.         0.         0.         0.\n",
            " 0.         0.         0.         0.         0.         0.\n",
            " 0.         0.         0.         0.         0.         0.\n",
            " 0.         0.         0.         0.         0.         0.\n",
            " 0.         0.         0.         0.         0.         0.\n",
            " 0.         0.        ]\n"
          ]
        }
      ]
    },
    {
      "cell_type": "code",
      "source": [
        "type(image_array)"
      ],
      "metadata": {
        "id": "rOZ06JE6znpF",
        "colab": {
          "base_uri": "https://localhost:8080/"
        },
        "outputId": "97a83bc1-7a39-4ec6-d15a-c8bae016dddb"
      },
      "execution_count": null,
      "outputs": [
        {
          "output_type": "execute_result",
          "data": {
            "text/plain": [
              "numpy.ndarray"
            ]
          },
          "metadata": {},
          "execution_count": 27
        }
      ]
    },
    {
      "cell_type": "code",
      "source": [
        "print(image_arrays[0].shape)"
      ],
      "metadata": {
        "id": "M9dfQ72b3mOP",
        "colab": {
          "base_uri": "https://localhost:8080/"
        },
        "outputId": "8cb0db9a-48d4-4e18-b22c-526bcd652257"
      },
      "execution_count": null,
      "outputs": [
        {
          "output_type": "stream",
          "name": "stdout",
          "text": [
            "(200, 200)\n"
          ]
        }
      ]
    },
    {
      "cell_type": "code",
      "source": [
        "img_plot = plt.imshow(image_arrays[40])\n",
        "plt.show()"
      ],
      "metadata": {
        "id": "4whO488R0BYN",
        "colab": {
          "base_uri": "https://localhost:8080/",
          "height": 434
        },
        "outputId": "db5eeed9-5d56-46b6-8222-6f9b5a626b46"
      },
      "execution_count": null,
      "outputs": [
        {
          "output_type": "display_data",
          "data": {
            "text/plain": [
              "<Figure size 640x480 with 1 Axes>"
            ],
            "image/png": "[encoded data removed]"
          },
          "metadata": {}
        }
      ]
    },
    {
      "cell_type": "code",
      "source": [
        "print(image_arrays[0].shape)"
      ],
      "metadata": {
        "id": "TF4pVwFK0RRq",
        "colab": {
          "base_uri": "https://localhost:8080/"
        },
        "outputId": "afab8120-b1af-4a82-986b-db897355cd2f"
      },
      "execution_count": null,
      "outputs": [
        {
          "output_type": "stream",
          "name": "stdout",
          "text": [
            "(200, 200)\n"
          ]
        }
      ]
    }
  ]
}